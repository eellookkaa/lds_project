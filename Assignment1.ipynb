{
  "nbformat": 4,
  "nbformat_minor": 0,
  "metadata": {
    "colab": {
      "provenance": [],
      "authorship_tag": "ABX9TyMf//eRV/7qHYttw6/Q3N7I",
      "include_colab_link": true
    },
    "kernelspec": {
      "name": "python3",
      "display_name": "Python 3"
    },
    "language_info": {
      "name": "python"
    }
  },
  "cells": [
    {
      "cell_type": "markdown",
      "metadata": {
        "id": "view-in-github",
        "colab_type": "text"
      },
      "source": [
        "<a href=\"https://colab.research.google.com/github/eellookkaa/lds_project/blob/main/Assignment1.ipynb\" target=\"_parent\"><img src=\"https://colab.research.google.com/assets/colab-badge.svg\" alt=\"Open In Colab\"/></a>"
      ]
    },
    {
      "cell_type": "code",
      "execution_count": 288,
      "metadata": {
        "id": "4OCJgKUP2rXj"
      },
      "outputs": [],
      "source": [
        "import csv\n"
      ]
    },
    {
      "cell_type": "code",
      "source": [
        "file = open('answers_full.csv', 'r')\n",
        "reader = csv.reader(file)\n",
        "headers = next(reader, None)"
      ],
      "metadata": {
        "id": "sW40HZvS2vbY"
      },
      "execution_count": 289,
      "outputs": []
    },
    {
      "cell_type": "code",
      "source": [
        "import csv\n",
        "reader = csv.DictReader(open('answers_full.csv'))\n",
        "\n",
        "result = {}\n",
        "for row in reader:\n",
        "    for column, value in row.items(): \n",
        "        result.setdefault(column, []).append(value)"
      ],
      "metadata": {
        "id": "q4sjy31UD6IO"
      },
      "execution_count": 290,
      "outputs": []
    },
    {
      "cell_type": "code",
      "source": [
        "result.keys()"
      ],
      "metadata": {
        "colab": {
          "base_uri": "https://localhost:8080/"
        },
        "id": "L9gPmNSr3gtA",
        "outputId": "d0f93747-920f-4229-a4ce-ba1e550bc777"
      },
      "execution_count": 291,
      "outputs": [
        {
          "output_type": "execute_result",
          "data": {
            "text/plain": [
              "dict_keys(['QuestionId', 'UserId', 'AnswerId', 'CorrectAnswer', 'AnswerValue', 'Gender', 'DateOfBirth', 'PremiumPupil', 'DateAnswered', 'Confidence', 'GroupId', 'QuizId', 'SchemeOfWorkId', 'SubjectId', 'Region', 'CountryCode'])"
            ]
          },
          "metadata": {},
          "execution_count": 291
        }
      ]
    },
    {
      "cell_type": "code",
      "source": [
        "Answers = ['AnswerId', 'QuestionId', 'UserId', 'OrganizationId', 'DateId', 'AnswerValue', 'DateAnswered', 'Confidence', 'CorrectAnswer', 'IsCorrect']\n",
        "Organization = ['OrganizationId', 'GroupId', 'QuizId', 'SchemeOfWorkId']\n",
        "Date = ['DateId']\n",
        "Subject = ['SubjectId', 'Description']\n",
        "User = ['UserId', 'DateId', 'GeoId', 'Gender']\n",
        "Geography = ['GeoId', 'Region', 'CountryName', 'Continent']"
      ],
      "metadata": {
        "id": "fWHpL90FIzoI"
      },
      "execution_count": 292,
      "outputs": []
    },
    {
      "cell_type": "code",
      "source": [
        "def toNewDict(tableName, columns):\n",
        "  new_dict={}\n",
        "  for col in tableName:\n",
        "    if col in columns.keys():\n",
        "      new_dict[col] = columns[col]\n",
        "  return new_dict"
      ],
      "metadata": {
        "id": "uJUETo0eJwsG"
      },
      "execution_count": 322,
      "outputs": []
    },
    {
      "cell_type": "code",
      "source": [
        "AnswersDict = toNewDict(Answers, result)\n",
        "OrganizationDict = toNewDict(Organization, result)\n",
        "DataDict = toNewDict(Date, result)\n",
        "SubjectDict = toNewDict(Subject, result)\n",
        "UserDict = toNewDict(User, result)\n",
        "GeographyDict = toNewDict(Geography, result)"
      ],
      "metadata": {
        "id": "e3BMYOfKKAkr"
      },
      "execution_count": 323,
      "outputs": []
    },
    {
      "cell_type": "code",
      "source": [
        "def toCsv(fileName, columns):\n",
        "  with open(fileName, \"w\") as outfile:\n",
        "   writer = csv.writer(outfile)\n",
        "   writer.writerow(columns.keys())\n",
        "   writer.writerows(zip(*columns.values()))"
      ],
      "metadata": {
        "id": "2c2nOUADK3a6"
      },
      "execution_count": 324,
      "outputs": []
    },
    {
      "cell_type": "code",
      "source": [
        "toCsv('answers.csv', AnswersDict)\n",
        "toCsv('organization.csv', OrganizationDict)\n",
        "toCsv('subject.csv', SubjectDict)\n",
        "toCsv('date.csv', DataDict)\n",
        "toCsv('user.csv', UserDict)\n",
        "toCsv('geography.csv', GeographyDict)"
      ],
      "metadata": {
        "id": "_EW5uqAnK-oC"
      },
      "execution_count": 325,
      "outputs": []
    },
    {
      "cell_type": "code",
      "source": [],
      "metadata": {
        "id": "-va5vxacX66d"
      },
      "execution_count": null,
      "outputs": []
    },
    {
      "cell_type": "code",
      "source": [
        "import pandas as pd\n",
        "df = pd.read_csv ('answers.csv')\n",
        "print(df)"
      ],
      "metadata": {
        "colab": {
          "base_uri": "https://localhost:8080/"
        },
        "id": "dk4Vxq-sMNam",
        "outputId": "6754ff18-32e5-4a44-f64c-2d67c5b38c8f"
      },
      "execution_count": 326,
      "outputs": [
        {
          "output_type": "stream",
          "name": "stdout",
          "text": [
            "Empty DataFrame\n",
            "Columns: [AnswerId, QuestionId, UserId, OrganizationId, DateId, AnswerValue, DateAnswered, Confidence, CorrectAnswer, IsCorrect]\n",
            "Index: []\n"
          ]
        }
      ]
    },
    {
      "cell_type": "code",
      "source": [
        "df['AnswerId']"
      ],
      "metadata": {
        "colab": {
          "base_uri": "https://localhost:8080/"
        },
        "id": "WRaS2HdRMUv5",
        "outputId": "16dd749b-726a-4f65-e70d-036351a3b8b5"
      },
      "execution_count": 321,
      "outputs": [
        {
          "output_type": "execute_result",
          "data": {
            "text/plain": [
              "0          9602029\n",
              "1          9987106\n",
              "2          1185187\n",
              "3           629715\n",
              "4         14856343\n",
              "            ...   \n",
              "538830    19395463\n",
              "538831     6902468\n",
              "538832     7152112\n",
              "538833     5066998\n",
              "538834    11616388\n",
              "Name: AnswerId, Length: 538835, dtype: int64"
            ]
          },
          "metadata": {},
          "execution_count": 321
        }
      ]
    }
  ]
}